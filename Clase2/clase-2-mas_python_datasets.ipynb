{
 "cells": [
  {
   "cell_type": "markdown",
   "id": "72732539",
   "metadata": {},
   "source": [
    "## 📘 Introducción a Python - Parte 2\n",
    "Esta notebook cubre el uso de Python en Google Colab, incluyendo funciones, librerías y manejo de archivos. \n",
    "Al final, exploraremos Kaggle, Hugging Face y GitHub como recursos esenciales."
   ]
  },
  {
   "cell_type": "code",
   "execution_count": null,
   "id": "f150fd8e",
   "metadata": {},
   "outputs": [],
   "source": []
  },
  {
   "cell_type": "markdown",
   "id": "fc286771",
   "metadata": {},
   "source": [
    "## 📌 **Uso de Librerías**\n",
    "\n",
    "1. Importa la librería `numpy` y crea un array con valores del 1 al 10.\n",
    "2. Calcula la media y la suma de los valores del array.\n",
    "\n",
    "📍 *Tip: Usa `np.mean()` y `np.sum()`.*"
   ]
  },
  {
   "cell_type": "code",
   "execution_count": null,
   "id": "0df99a3b",
   "metadata": {},
   "outputs": [],
   "source": [
    "\n",
    "import numpy as np\n",
    "arr = np.array(range(1, 11))  # Array del 1 al 10\n",
    "print(\"Array:\", arr)\n",
    "print(\"Media:\", np.mean(arr))\n",
    "print(\"Suma:\", np.sum(arr))"
   ]
  },
  {
   "cell_type": "markdown",
   "id": "ca2feb2b",
   "metadata": {},
   "source": [
    "## 📌 Instalación y uso de librerías externas\n",
    "Colab permite instalar paquetes adicionales. Por ejemplo, podemos instalar la librería `transformers` de Hugging Face para NLP."
   ]
  },
  {
   "cell_type": "code",
   "execution_count": null,
   "id": "4c3d5e1c",
   "metadata": {},
   "outputs": [],
   "source": [
    "!pip install transformers\n",
    "from transformers import pipeline\n",
    "\n",
    "# Crear un modelo de análisis de sentimiento\n",
    "classifier = pipeline(\"sentiment-analysis\")\n",
    "result = classifier(\"Este curso es excelente!\")\n",
    "print(\"Análisis de sentimiento:\", result)"
   ]
  },
  {
   "cell_type": "markdown",
   "id": "e43e63fe",
   "metadata": {},
   "source": [
    "## 📌 Manejo de archivos en Google Colab\n",
    "Podemos subir archivos directamente desde nuestra computadora y trabajar con ellos en Colab."
   ]
  },
  {
   "cell_type": "code",
   "execution_count": null,
   "id": "e56b9288",
   "metadata": {},
   "outputs": [],
   "source": [
    "from google.colab import files\n",
    "# Subir un archivo\n",
    "uploaded = files.upload()\n",
    "# Leer un archivo CSV\n",
    "import pandas as pd\n",
    "df = pd.read_csv(list(uploaded.keys())[0])\n",
    "print(df.head())"
   ]
  },
  {
   "cell_type": "markdown",
   "id": "44c2eef8",
   "metadata": {},
   "source": [
    "## 📌 Exploración de Kaggle\n",
    "Podemos descargar datasets directamente desde Kaggle."
   ]
  },
  {
   "cell_type": "code",
   "execution_count": null,
   "id": "a2809694",
   "metadata": {},
   "outputs": [],
   "source": [
    "!pip install kaggle\n",
    "import os\n",
    "os.environ['KAGGLE_CONFIG_DIR'] = \"/content/\"\n",
    "!kaggle datasets download -d zillow/zecon"
   ]
  },
  {
   "cell_type": "markdown",
   "id": "d3a98df6",
   "metadata": {},
   "source": [
    "## 📌 Exploración de Hugging Face\n",
    "Podemos acceder a modelos pre-entrenados y datasets de NLP fácilmente."
   ]
  },
  {
   "cell_type": "code",
   "execution_count": null,
   "id": "af81a9ec",
   "metadata": {},
   "outputs": [],
   "source": [
    "!pip install datasets\n",
    "from datasets import load_dataset\n",
    "dataset = load_dataset(\"imdb\")\n",
    "print(dataset[\"train\"][0])"
   ]
  },
  {
   "cell_type": "markdown",
   "id": "017cac61",
   "metadata": {},
   "source": [
    "## 📌 Uso de GitHub\n",
    "Podemos clonar repositorios de GitHub y trabajar con ellos directamente en Colab."
   ]
  },
  {
   "cell_type": "code",
   "execution_count": null,
   "id": "9783b408",
   "metadata": {},
   "outputs": [],
   "source": [
    "!git clone https://github.com/huggingface/transformers.git\n",
    "!ls transformers"
   ]
  }
 ],
 "metadata": {
  "language_info": {
   "name": "python"
  }
 },
 "nbformat": 4,
 "nbformat_minor": 5
}
