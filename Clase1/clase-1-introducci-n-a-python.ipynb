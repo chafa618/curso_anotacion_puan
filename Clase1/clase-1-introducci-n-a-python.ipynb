{
  "nbformat": 4,
  "nbformat_minor": 0,
  "metadata": {
    "kernelspec": {
      "display_name": "Python 3",
      "language": "python",
      "name": "python3"
    },
    "language_info": {
      "codemirror_mode": {
        "name": "ipython",
        "version": 3
      },
      "file_extension": ".py",
      "mimetype": "text/x-python",
      "name": "python",
      "nbconvert_exporter": "python",
      "pygments_lexer": "ipython3",
      "version": "3.5.2"
    },
    "colab": {
      "name": "Clase 1 - Introducción a Python.ipynb",
      "provenance": [],
      "collapsed_sections": [
        "WIfBUHkM58vC",
        "7gaMlmrL58vF",
        "FhVF-TYk58vJ",
        "nL41aWI458vK",
        "Wvo8zJnd58vg",
        "zsFPAbMc58v3",
        "QVEzYGFq58wB",
        "Ct47w-p658we",
        "-Mf9YGun58w_",
        "iHfEnxd058xW",
        "i1w9DuzU58xa",
        "Zf2h1dLv58xh",
        "QYXMRnF458xx"
      ],
      "toc_visible": true,
      "include_colab_link": true
    }
  },
  "cells": [
    {
      "cell_type": "markdown",
      "metadata": {
        "id": "view-in-github",
        "colab_type": "text"
      },
      "source": [
        "<a href=\"https://colab.research.google.com/gist/chafa618/886efbd6e21e4037cb5f7b9676fe94cd/clase-1-introducci-n-a-python.ipynb\" target=\"_parent\"><img src=\"https://colab.research.google.com/assets/colab-badge.svg\" alt=\"Open In Colab\"/></a>"
      ]
    },
    {
      "cell_type": "markdown",
      "metadata": {
        "id": "WIfBUHkM58vC"
      },
      "source": [
        "## Introducción a la programación en Python - Parte 1"
      ]
    },
    {
      "cell_type": "markdown",
      "metadata": {
        "id": "AzWaUZsN58vD"
      },
      "source": [
        "*¿Qué es programar?*\n",
        "\n",
        "**solución de problemas:** El proceso de formular un problema, hallar la solución y expresar esa solución.\n",
        "\n",
        "\n",
        "**programa:** Un conjunto de instrucciones que especifica una computación.\n",
        "\n",
        "\n",
        "**algoritmo:** Un proceso general para resolver una clase completa de problemas.\n"
      ]
    },
    {
      "cell_type": "markdown",
      "metadata": {
        "id": "BCzstZ3258vE"
      },
      "source": [
        "**programación:** El proceso de romper una tarea en tareas cada vez más pequeñas hasta que puedan ser ejecutadas con una de estas instrucciones simples.\n",
        "\n"
      ]
    },
    {
      "cell_type": "markdown",
      "metadata": {
        "id": "7gaMlmrL58vF"
      },
      "source": [
        "## Lenguaje Formal vs. Lenguaje Natural\n",
        "\n"
      ]
    },
    {
      "cell_type": "markdown",
      "metadata": {
        "id": "6h6PlkyY58vH"
      },
      "source": [
        "**lenguaje natural:** Cualquier lenguaje hablado que evolucionó de forma natural. Español, inglés, etc...\n"
      ]
    },
    {
      "cell_type": "markdown",
      "metadata": {
        "id": "jrFlWoor58vI"
      },
      "source": [
        "\n",
        "\n",
        "**lenguaje formal:** Cualquier lenguaje diseñado por humanos que tiene un propósito específico, como la representación de ideas matemáticas o programas de computadoras; todos los lenguajes de programación son lenguajes formales.\n",
        "\n",
        "\n",
        "> **semántica**: El significado de un programa.\n",
        "\n",
        "\n",
        "> **sintaxis**: La estructura de un programa.\n",
        "\n",
        "\n",
        "> **unidad**: Uno de los elementos básicos de la estructura sintáctica de un programa, análogo a una palabra en un lenguaje natural.\n",
        "\n",
        "\n",
        "> **análisis sintáctico:** La examinación de un programa y el análisis de su estructura sintáctica."
      ]
    },
    {
      "cell_type": "markdown",
      "metadata": {
        "id": "FhVF-TYk58vJ"
      },
      "source": [
        "## ¿Por qué Python?\n",
        "\n",
        "**Python**: Lenguaje de alto nivel. Muy usado actualmente (con muchos recursos disponibles). Portable.\n",
        "\n",
        "\n",
        "__Lenguaje de alto nivel:__ Lenguaje diseñado para ser fácil de leer y escribir para la gente. La computadora debe traducirlo a un lenguaje de bajo nivel para entenderlo. Ej: Python.\n",
        "\n",
        "\n",
        "_Lenguaje de bajo nivel:_ Lenguaje diseñado para ser fácil de ejecutar para una computadora; también “lenguaje de máquina” o “lenguaje ensamblador”. Ej: Código binario.\n",
        "\n",
        "\n",
        "_Lenguaje de nivel medio:_ Utilizan estructuras típicas de los lenguajes de alto nivel pero, a su vez, permiten un control a muy bajo nivel. Ej: C.\n",
        "\n",
        "\n",
        "__Portabilidad:__ La cualidad de un programa que le permite ser ejecutado en más de un tipo de computadora.\n",
        "\n"
      ]
    },
    {
      "cell_type": "markdown",
      "metadata": {
        "id": "nL41aWI458vK"
      },
      "source": [
        "### Algunos conceptos básicos"
      ]
    },
    {
      "cell_type": "markdown",
      "metadata": {
        "id": "xqX1Z5hM58vL"
      },
      "source": [
        "\n",
        "\n",
        "\n",
        "**Variable:** nombre que hace referencia a un valor. A diferencia de los strings, no lleva comillas.\n",
        "\n",
        "\n",
        "**Valor:** un número o cadena (o cualquier otra cosa que se especifique posteriormente) que puede almacenarse en una variable o calcularse en una expresión.\n",
        "_Ej: edad = 17 (Variable: edad. Valor: 17)_\n",
        "\n",
        "\n",
        "**Sentencia:** es una porción de código que representa una orden o acción. \n",
        "\n",
        "- Asignación: Sentencia que asigna un valor a una variable.\n",
        " - _Ejemplo:_ edad = 17\n",
        "\n"
      ]
    },
    {
      "cell_type": "markdown",
      "metadata": {
        "id": "EPaPA4LJ58vM"
      },
      "source": [
        "**operador:** un símbolo especial que representa un cálculo sencillo, como la suma (1+1), la multiplicación (1*1) o la concatenación de cadenas (“Hola, ”+nombre).\n",
        "\n",
        "**expresión:** una combinación de variables, operadores y valores. Dicha combinación representa un único valor como resultado. "
      ]
    },
    {
      "cell_type": "code",
      "metadata": {
        "id": "N1c44J3Z58vN",
        "outputId": "5c4f5b30-9b99-4138-91a6-7bce035b7cba"
      },
      "source": [
        "suma = 4 + 5 # Variable suma\n",
        "print(total) # Imprimimos el total"
      ],
      "execution_count": null,
      "outputs": [
        {
          "output_type": "stream",
          "text": [
            "9\n"
          ],
          "name": "stdout"
        }
      ]
    },
    {
      "cell_type": "code",
      "metadata": {
        "id": "XOYrfPDr58vU",
        "outputId": "c2584d13-c85e-4efd-b0bc-4e818a915409"
      },
      "source": [
        "concatenar = \"hola, \" + \"amigos\"\n",
        "print(concatenar)"
      ],
      "execution_count": null,
      "outputs": [
        {
          "output_type": "stream",
          "text": [
            "hola, amigos\n"
          ],
          "name": "stdout"
        }
      ]
    },
    {
      "cell_type": "code",
      "metadata": {
        "id": "YjsxhhVT58vb",
        "outputId": "0d42b3b9-1012-4d81-a476-caa684b71215"
      },
      "source": [
        "nombre = \"Fernando\" # Variable nombre: Fernando\n",
        "print(\"Nombre: \",nombre) # Instrucción: imprimir string 'Nombre:' y la variable nombre \n",
        "\n",
        "edad = 27 \n",
        "print(nombre, \" tiene \", edad, \" años.\") "
      ],
      "execution_count": null,
      "outputs": [
        {
          "output_type": "stream",
          "text": [
            "Nombre:  Fernando\n",
            "Fernando  tiene  27  años.\n"
          ],
          "name": "stdout"
        }
      ]
    },
    {
      "cell_type": "markdown",
      "metadata": {
        "id": "Wvo8zJnd58vg"
      },
      "source": [
        "\n",
        "####Funciones:\n",
        "Son instrucciones que Python reconoce y ejecuta. Las funciones por lo regular\n",
        "tienen como resultado un valor que se puede guardar en una variable. Las funciones pueden **tomar parámetros** o no, y pueden **devolver un resultado** o no.\n",
        "\n"
      ]
    },
    {
      "cell_type": "code",
      "metadata": {
        "id": "CBIzvMr058vh",
        "outputId": "73d402e6-f6c1-4a7b-bb1f-e7d38271d8d5"
      },
      "source": [
        "#Funcion con un parametro\n",
        "def saludar(name): ## Parámetro: name (interno a la función)\n",
        "    print(\"hola, \", name)\n",
        "\n",
        "saludar(nombre) ## Argumento: la cadena \"Fernando\" almacenada en la variable 'nombre'."
      ],
      "execution_count": null,
      "outputs": [
        {
          "output_type": "stream",
          "text": [
            "hola,  Fernando\n"
          ],
          "name": "stdout"
        }
      ]
    },
    {
      "cell_type": "code",
      "metadata": {
        "id": "IKPVC1BQ58vm",
        "outputId": "6f707479-eab1-4e66-f4b8-452fb8fd35f8"
      },
      "source": [
        "#Funcion con dos parametros\n",
        "def datos(name, age):\n",
        "    print(\"Nombre: \", name)\n",
        "    print(\"Edad: \", age)\n",
        "    \n",
        "datos(nombre, edad)\n",
        "\n"
      ],
      "execution_count": null,
      "outputs": [
        {
          "output_type": "stream",
          "text": [
            "Nombre:  Fernando\n",
            "Edad:  27\n"
          ],
          "name": "stdout"
        }
      ]
    },
    {
      "cell_type": "code",
      "metadata": {
        "id": "O_LFjY1D58vx"
      },
      "source": [
        ""
      ],
      "execution_count": null,
      "outputs": []
    },
    {
      "cell_type": "markdown",
      "metadata": {
        "id": "zsFPAbMc58v3"
      },
      "source": [
        "### Tipos de datos\n"
      ]
    },
    {
      "cell_type": "markdown",
      "metadata": {
        "id": "8y4j2_8p7HPI"
      },
      "source": [
        "Para verificar el tipo de dato Python ofrece la función nativa type() que devuelve el tipo de dato de aquello que le pasamos como argumento. Hay varios tipos de datos, pero nombramos acá solo algunos a fines de ejemplos.\n",
        "\n",
        "Hay que tener en cuenta que los distintos tipos de dato tienen distintos 'comportamientos'. Si por alguna razón pedimos que python realice un corportamiento típico de un tipo de dato, pero le pasamos otro tipo de dato obtendremos un error. Veremos esto un poco más adelante"
      ]
    },
    {
      "cell_type": "code",
      "metadata": {
        "id": "3Lr3FX7B58v4",
        "outputId": "0227392f-ec62-4564-8f9e-2d060ecef887"
      },
      "source": [
        "print(type(nombre))\n",
        "print(type(edad))"
      ],
      "execution_count": null,
      "outputs": [
        {
          "output_type": "stream",
          "text": [
            "<class 'str'>\n",
            "<class 'int'>\n"
          ],
          "name": "stdout"
        }
      ]
    },
    {
      "cell_type": "markdown",
      "metadata": {
        "id": "4iEma8UH58v_"
      },
      "source": [
        "| tipo | descripción | ejemplo |\n",
        "| :---------: | :-----: | :------: |\n",
        "| int | Entero | 3 |\n",
        "| float | flotante  | 3.0 |\n",
        "| str  | string | \"3\" |\n",
        "| bool  | booleano | True o False |"
      ]
    },
    {
      "cell_type": "markdown",
      "metadata": {
        "id": "0aRh2iQQ58wA"
      },
      "source": [
        "**Conversiones de tipos de datos**"
      ]
    },
    {
      "cell_type": "markdown",
      "metadata": {
        "id": "Bp9jTiAv58wB"
      },
      "source": [
        "| descripción | función | devuelve |\n",
        "| :---------: | :-----: | :------: |\n",
        "| Convierte en entero | int(20.9) | 30 |\n",
        "| Convierte en string | str(402)  | “402” |\n",
        "| Convierte en float  | float(40) | 40.0 |\n",
        "| Convierte en lista | list(40) | [40] "
      ]
    },
    {
      "cell_type": "markdown",
      "metadata": {
        "id": "QVEzYGFq58wB"
      },
      "source": [
        "### String\n",
        "#### Algunos Métodos de los string\n",
        "\n"
      ]
    },
    {
      "cell_type": "code",
      "metadata": {
        "id": "nN3naEH958wC",
        "outputId": "f1c960c3-e460-43a0-8f84-fd63a3161111"
      },
      "source": [
        "nombre.upper() #Convertir a mayúsculas"
      ],
      "execution_count": null,
      "outputs": [
        {
          "output_type": "execute_result",
          "data": {
            "text/plain": [
              "'FERNANDO'"
            ]
          },
          "metadata": {
            "tags": []
          },
          "execution_count": 3
        }
      ]
    },
    {
      "cell_type": "code",
      "metadata": {
        "id": "wIMbuj3m58wK",
        "outputId": "58362b54-176a-44c8-b2c2-9227c0516951"
      },
      "source": [
        "nombre.lower() #A minúsculas"
      ],
      "execution_count": null,
      "outputs": [
        {
          "output_type": "execute_result",
          "data": {
            "text/plain": [
              "'fernando'"
            ]
          },
          "metadata": {
            "tags": []
          },
          "execution_count": 4
        }
      ]
    },
    {
      "cell_type": "code",
      "metadata": {
        "id": "gl1OXoVg58wQ",
        "outputId": "02295e03-b5e0-41b6-d953-0f9bd6d43268"
      },
      "source": [
        "len(nombre) #Largo, pueden probar con otros datos cambiando el valor o directamente la variable \n"
      ],
      "execution_count": null,
      "outputs": [
        {
          "output_type": "execute_result",
          "data": {
            "text/plain": [
              "8"
            ]
          },
          "metadata": {
            "tags": []
          },
          "execution_count": 5
        }
      ]
    },
    {
      "cell_type": "code",
      "metadata": {
        "id": "-XeJLGbS58wU",
        "outputId": "c31b85df-53dc-477d-af2b-ed757e538325"
      },
      "source": [
        "list(nombre)"
      ],
      "execution_count": null,
      "outputs": [
        {
          "output_type": "execute_result",
          "data": {
            "text/plain": [
              "['F', 'e', 'r', 'n', 'a', 'n', 'd', 'o']"
            ]
          },
          "metadata": {
            "tags": []
          },
          "execution_count": 6
        }
      ]
    },
    {
      "cell_type": "code",
      "metadata": {
        "id": "oR1rsiOQ58wY",
        "outputId": "95f009ca-cde0-4779-dba2-c778b6560fa6"
      },
      "source": [
        "int(nombre) # Qué pasa si quiero convertir a entero un string? "
      ],
      "execution_count": null,
      "outputs": [
        {
          "output_type": "error",
          "ename": "ValueError",
          "evalue": "invalid literal for int() with base 10: 'Fernando'",
          "traceback": [
            "\u001b[0;31m---------------------------------------------------------------------------\u001b[0m",
            "\u001b[0;31mValueError\u001b[0m                                Traceback (most recent call last)",
            "\u001b[0;32m<ipython-input-7-f7e1ef64f59a>\u001b[0m in \u001b[0;36m<module>\u001b[0;34m()\u001b[0m\n\u001b[0;32m----> 1\u001b[0;31m \u001b[0mint\u001b[0m\u001b[0;34m(\u001b[0m\u001b[0mnombre\u001b[0m\u001b[0;34m)\u001b[0m\u001b[0;34m\u001b[0m\u001b[0m\n\u001b[0m",
            "\u001b[0;31mValueError\u001b[0m: invalid literal for int() with base 10: 'Fernando'"
          ]
        }
      ]
    },
    {
      "cell_type": "markdown",
      "metadata": {
        "id": "Ct47w-p658we"
      },
      "source": [
        "### Listas"
      ]
    },
    {
      "cell_type": "code",
      "metadata": {
        "id": "MSsRspey58wf"
      },
      "source": [
        "nombre_completo = \"Juan Gimenez\"\n",
        "nombre_apellido = nombre_completo.split(' ')"
      ],
      "execution_count": null,
      "outputs": []
    },
    {
      "cell_type": "code",
      "metadata": {
        "id": "v8EYmqOW58wk",
        "outputId": "6406fcbd-59df-41a6-d018-aaa03e6ad4a9"
      },
      "source": [
        "print(nombre_completo)\n",
        "print(nombre_apellido)"
      ],
      "execution_count": null,
      "outputs": [
        {
          "output_type": "stream",
          "text": [
            "Juan Gimenez\n",
            "['Juan', 'Gimenez']\n"
          ],
          "name": "stdout"
        }
      ]
    },
    {
      "cell_type": "markdown",
      "metadata": {
        "id": "BFBrIsbS58wq"
      },
      "source": [
        "\n",
        "**.split** como vemos, es un método que separa los strings. Y el método inverso es **.join**, para unir muchas cadenas intercalandolas con otra"
      ]
    },
    {
      "cell_type": "code",
      "metadata": {
        "id": "IhD6Reyg58wr",
        "outputId": "82376a15-ddfa-4358-f4de-648ee145ddd1"
      },
      "source": [
        "\" \".join(nombre_apellido)"
      ],
      "execution_count": null,
      "outputs": [
        {
          "output_type": "execute_result",
          "data": {
            "text/plain": [
              "'Juan Gimenez'"
            ]
          },
          "metadata": {
            "tags": []
          },
          "execution_count": 23
        }
      ]
    },
    {
      "cell_type": "code",
      "metadata": {
        "id": "I_ZMCqKu58wy",
        "outputId": "62a5f165-0cc9-42b8-fd47-d2cfdcc54a87"
      },
      "source": [
        ""
      ],
      "execution_count": null,
      "outputs": [
        {
          "output_type": "execute_result",
          "data": {
            "text/plain": [
              "True"
            ]
          },
          "metadata": {
            "tags": []
          },
          "execution_count": 23
        }
      ]
    },
    {
      "cell_type": "code",
      "metadata": {
        "id": "RpNwwzu058w2",
        "outputId": "8deb7e91-7162-4f3d-c2b6-1d6b9a8f335d"
      },
      "source": [
        "lista_de_nombres = [\"Gerardo\", \"Esteban\", \"Florencia\", \"Vanesa\", \"Adrian\"]\n",
        "type(lista_de_nombres)"
      ],
      "execution_count": null,
      "outputs": [
        {
          "output_type": "execute_result",
          "data": {
            "text/plain": [
              "list"
            ]
          },
          "metadata": {
            "tags": []
          },
          "execution_count": 1
        }
      ]
    },
    {
      "cell_type": "code",
      "metadata": {
        "id": "-Q4B3DXF58w6",
        "outputId": "ee422369-046d-42a5-8552-089a3f71fb52"
      },
      "source": [
        "len(lista_de_nombres)"
      ],
      "execution_count": null,
      "outputs": [
        {
          "output_type": "execute_result",
          "data": {
            "text/plain": [
              "5"
            ]
          },
          "metadata": {
            "tags": []
          },
          "execution_count": 2
        }
      ]
    },
    {
      "cell_type": "markdown",
      "metadata": {
        "id": "-Mf9YGun58w_"
      },
      "source": [
        "### Indices"
      ]
    },
    {
      "cell_type": "markdown",
      "metadata": {
        "id": "oshS7OcS58xA"
      },
      "source": [
        "Las cadenas y las listas son secuencias. O sea, conjuntos ordenados que se pueden indizar, recortar, reordenar, etc.\n",
        "\n"
      ]
    },
    {
      "cell_type": "code",
      "metadata": {
        "id": "v16P24iK58xB",
        "outputId": "c8b338d7-e8c3-4c95-cec6-83912b9ca6e0"
      },
      "source": [
        "print(lista_de_nombres[1]) #Qué pasará?\n",
        "print(lista_de_nombres[:2]) #Qué pasará?\n",
        "print(lista_de_nombres[2:]) #Qué pasará?\n",
        "print(lista_de_nombres[0]) #Qué pasará?\n",
        "print(lista_de_nombres[-1:]) #Qué pasará?"
      ],
      "execution_count": null,
      "outputs": [
        {
          "output_type": "stream",
          "text": [
            "Esteban\n",
            "['Gerardo', 'Esteban']\n",
            "['Florencia', 'Vanesa', 'Adrian']\n",
            "Gerardo\n",
            "['Adrian']\n"
          ],
          "name": "stdout"
        }
      ]
    },
    {
      "cell_type": "code",
      "metadata": {
        "id": "IJ7sHRyr58xF",
        "outputId": "abfc161c-bece-4894-9f6b-e698969ccd5e"
      },
      "source": [
        "print([x for x in lista_de_nombres])"
      ],
      "execution_count": null,
      "outputs": [
        {
          "output_type": "stream",
          "text": [
            "['Gerardo', 'Esteban', 'Florencia', 'Vanesa', 'Adrian']\n"
          ],
          "name": "stdout"
        }
      ]
    },
    {
      "cell_type": "code",
      "metadata": {
        "id": "NE5dQQBm58xJ",
        "outputId": "47c3dbd1-f0f0-41c0-c0a7-7f317772dd2b"
      },
      "source": [
        "x = 0 \n",
        "for nombre in lista_de_nombres:\n",
        "    x += 1 # Contador\n",
        "    print(x, \"Nombre: \",nombre)"
      ],
      "execution_count": null,
      "outputs": [
        {
          "output_type": "stream",
          "text": [
            "1 Nombre:  Gerardo\n",
            "2 Nombre:  Esteban\n",
            "3 Nombre:  Florencia\n",
            "4 Nombre:  Vanesa\n",
            "5 Nombre:  Adrian\n"
          ],
          "name": "stdout"
        }
      ]
    },
    {
      "cell_type": "code",
      "metadata": {
        "id": "nW6C62hp58xQ",
        "outputId": "20638772-0c58-4302-a67d-21b9a4ea814d"
      },
      "source": [
        "#While\n",
        "def regresion(n):\n",
        "    while n > 0:\n",
        "        print(n)\n",
        "        n = n-1\n",
        "    print('Despegue!')\n",
        "    \n",
        "regresion(int(input(\"Ingresá un numero:\")))"
      ],
      "execution_count": null,
      "outputs": [
        {
          "output_type": "stream",
          "text": [
            "Ingresá un numero:4\n",
            "4\n",
            "3\n",
            "2\n",
            "1\n",
            "Despegue!\n"
          ],
          "name": "stdout"
        }
      ]
    },
    {
      "cell_type": "markdown",
      "metadata": {
        "id": "iHfEnxd058xW"
      },
      "source": [
        "### Expresiones booleanas\n",
        "\n",
        "**Expresión booleana:** Es una expresión que es cierta o falsa. Podemos generar expresiones booleanas utilizando operador de comparación u operadores relacionales. Estos comparan dos valores: **==**, **!=**, **>**, **<**, **>=** y **<=** y nos devuelven el valor de verdad del enunciado.\n",
        "\n",
        "**ACLARACIÓN: el signo = nos permite asignar un valor a una variable. El signo == nos permite comparar dos valores (sean int, string o float)**"
      ]
    },
    {
      "cell_type": "code",
      "metadata": {
        "id": "luNeaheA58xX",
        "outputId": "831c14e3-4e3e-40f8-deef-b8b7e6cec745"
      },
      "source": [
        "4 > 2\n",
        "#4 < 2\n",
        "#4 == 4   # OJO: \" = \"\n",
        "# cuatro = 4"
      ],
      "execution_count": null,
      "outputs": [
        {
          "output_type": "execute_result",
          "data": {
            "text/plain": [
              "True"
            ]
          },
          "metadata": {
            "tags": []
          },
          "execution_count": 8
        }
      ]
    },
    {
      "cell_type": "markdown",
      "metadata": {
        "id": "i1w9DuzU58xa"
      },
      "source": [
        "\n",
        "### Ejecución condicional\n",
        "\n",
        "**Sentencia condicional:** Sentencia que controla el flujo de ejecución de un programa dependiendo de cierta condición. Es decir, es una sentencia que, dependiendo de su valor de verdad, nos permite establecer si el program se sigue ejecutando o no. La forma más simple es la sentencia **if**.\n",
        "\n",
        "**Condición:** La expresión booleana que sucede al if en una sentencia condicional. Esta expresión determina qué rama del programa se ejecutará. "
      ]
    },
    {
      "cell_type": "code",
      "metadata": {
        "id": "lPreT8NH58xb",
        "outputId": "accb38b5-b40f-49c7-d611-07ebc0e433d8"
      },
      "source": [
        "nombre = input(\"Cómo te llamás?\")\n",
        "if nombre[-1] == \"a\":\n",
        "    print(\"Nombre Propio: Femenino\")"
      ],
      "execution_count": null,
      "outputs": [
        {
          "output_type": "stream",
          "text": [
            "Ingresá un número: 5\n",
            "Elegiste un numero positivo\n"
          ],
          "name": "stdout"
        }
      ]
    },
    {
      "cell_type": "markdown",
      "metadata": {
        "id": "Zf2h1dLv58xh"
      },
      "source": [
        "### Ejecución alternativa: \n",
        "La ejecución alternativa de la sentencia condicional es aquella en la que tenemos más de una posibilidad. Cada condición determina qué posibilidad se ejecuta. Cada posibilidad en el flujo de la ejecución se denomina rama.\n",
        "Si tenemos solamente dos posibilidades, podemos usar **if** y **else**. If define nuestra condición y else nos dice qué sucede si esa condición no es cierta.\n",
        "Si queremos tener más de dos posibilidades, usamos **if**, **elif** (abreviación de 'else if') y **else**. En este caso, if define una condición, elif nos permite definir otra condición (es posible tener varios elif) y else nos dice qué sucede si nada de lo anterior es cierto."
      ]
    },
    {
      "cell_type": "code",
      "metadata": {
        "id": "ncpdajzX58xi"
      },
      "source": [
        "np_masc = [] #Creo dos listas vacías para separarlos\n",
        "np_fem = []\n",
        "\n",
        "for nombre in lista_de_nombres:\n",
        "    if nombre[-1] == \"n\":\n",
        "        np_masc.append(nombre) #Agrego elemento a la lista\n",
        "    elif nombre[-1] == \"o\":\n",
        "        np_masc.append(nombre) #Agrego elemento a la lista\n",
        "    else:\n",
        "        np_fem.append(nombre) #Agrego elemento a la lista\n"
      ],
      "execution_count": null,
      "outputs": []
    },
    {
      "cell_type": "code",
      "metadata": {
        "id": "Br3UyNTF58xm",
        "outputId": "982e4f88-b5d1-47ca-ec90-17f2cfac80f7"
      },
      "source": [
        "np_masc"
      ],
      "execution_count": null,
      "outputs": [
        {
          "output_type": "execute_result",
          "data": {
            "text/plain": [
              "['Gerardo', 'Esteban', 'Adrian']"
            ]
          },
          "metadata": {
            "tags": []
          },
          "execution_count": 41
        }
      ]
    },
    {
      "cell_type": "code",
      "metadata": {
        "id": "c21G-fs858xs",
        "outputId": "4a7478d1-5641-4742-e636-5f052fb63a8a"
      },
      "source": [
        "np_fem"
      ],
      "execution_count": null,
      "outputs": [
        {
          "output_type": "execute_result",
          "data": {
            "text/plain": [
              "['Florencia', 'Vanesa']"
            ]
          },
          "metadata": {
            "tags": []
          },
          "execution_count": 42
        }
      ]
    },
    {
      "cell_type": "markdown",
      "metadata": {
        "id": "QYXMRnF458xx"
      },
      "source": [
        "#### Ejercicio:\n",
        "Escribir una función que tome un carácter y devuelva True si es una vocal, de lo contrario devuelve False.\n"
      ]
    },
    {
      "cell_type": "code",
      "metadata": {
        "id": "L7ojSvKs58xz"
      },
      "source": [
        ""
      ],
      "execution_count": null,
      "outputs": []
    },
    {
      "cell_type": "markdown",
      "metadata": {
        "id": "P9y2_QAA58x4"
      },
      "source": [
        "## Archivos"
      ]
    },
    {
      "cell_type": "markdown",
      "metadata": {
        "id": "zbPxhHCA58x5"
      },
      "source": [
        "La función incorporada open() toma como argumento la ruta de un archivo y retorna una instancia del tipo file.\n",
        "Si no se especifica una ruta, el fichero se busca en el directorio actual. Por defecto el modo de apertura es únicamente para lectura. La función read() retorna el contenido del archivo abierto.\n",
        "Una vez que se ha terminado de trabajar con el fichero debe cerrarse vía close().\n"
      ]
    },
    {
      "cell_type": "code",
      "metadata": {
        "id": "2cyeP8OCDrGb",
        "outputId": "a732d6a8-c2b3-4be5-94f7-080840a79e49",
        "colab": {
          "base_uri": "https://localhost:8080/"
        }
      },
      "source": [
        "# Al ejecutar esta celda se vinculará tu almacenamiento en drive. \n",
        "#Deberás acceder al link para autorizar la integración\n",
        "\n",
        "from google.colab import drive\n",
        "# This will prompt for authorization.\n",
        "drive.mount('/content/drive')"
      ],
      "execution_count": 2,
      "outputs": [
        {
          "output_type": "stream",
          "text": [
            "Mounted at /content/drive\n"
          ],
          "name": "stdout"
        }
      ]
    },
    {
      "cell_type": "markdown",
      "metadata": {
        "id": "kout7ISy58x9"
      },
      "source": [
        "Para abrir un archivo en modo escritura, debe especificarse en el segundo argumento.\n",
        "Para escribir en él se emplea el método write()."
      ]
    },
    {
      "cell_type": "code",
      "metadata": {
        "id": "iRdu5Xgv58x-"
      },
      "source": [
        "#Esta celda generará un \"archivo_nuevo_generado_por_colab.txt\" en tu almacenamiento de Drive\n",
        "f = open(\"archivo_nuevo_generado_por_colab.txt\", \"w\") \n",
        "\n",
        "f.write(\"Hola mundo\")\n",
        "f.close()"
      ],
      "execution_count": 16,
      "outputs": []
    },
    {
      "cell_type": "markdown",
      "metadata": {
        "id": "t_fvEGePNOZN"
      },
      "source": [
        "Nótese que la función write() reemplaza todo el contenido anterior. Para añadir datos al final del archivo sin borrar información previa, el fichero debe abrirse en la modalidad append (\"a\").\n"
      ]
    },
    {
      "cell_type": "code",
      "metadata": {
        "id": "8OZQl0wF58yH"
      },
      "source": [
        "f = open(\"archivo_nuevo_generado_por_colab.txt\", \"a\")\n",
        "\n",
        "f.write(\"\\nHola \")\n",
        "f.write(\"mundo\")\n",
        "f.close()"
      ],
      "execution_count": 17,
      "outputs": []
    },
    {
      "cell_type": "code",
      "metadata": {
        "id": "c_JXipLmHB9R"
      },
      "source": [
        ""
      ],
      "execution_count": 17,
      "outputs": []
    },
    {
      "cell_type": "markdown",
      "metadata": {
        "id": "iknZ-CqzHCQI"
      },
      "source": [
        "Ademas de este método, podemos usar la sentencia with open. Esto nos permite prescindir de las instancias de apertura y cierre de archivos mientras estamos trabajando."
      ]
    },
    {
      "cell_type": "code",
      "metadata": {
        "id": "hXUrmMOgEsrz"
      },
      "source": [
        "# Esta celda generará un \"archivo_nuevo_generado_with_open\" en tu almacenamiento de Drive\n",
        "with open(\"archivo_nuevo_generado_with_open.txt\", 'w') as file:\n",
        "  archivo_modificado = file.write(\"linea numero 1\")\n"
      ],
      "execution_count": 18,
      "outputs": []
    },
    {
      "cell_type": "code",
      "metadata": {
        "id": "NSmBbxGN58x5",
        "outputId": "e0702ff8-e760-4ddc-c1fa-c9edd5b3127e",
        "colab": {
          "base_uri": "https://localhost:8080/"
        }
      },
      "source": [
        "with open(\"archivo_nuevo_generado_with_open.txt\", \"r\") as file2:\n",
        "  print(file2.readlines())\n"
      ],
      "execution_count": 19,
      "outputs": [
        {
          "output_type": "stream",
          "text": [
            "['linea numero 1']\n"
          ],
          "name": "stdout"
        }
      ]
    },
    {
      "cell_type": "markdown",
      "metadata": {
        "id": "utkd3nAV58yM"
      },
      "source": [
        "Para leer, escribir y añadir contenido de un fichero en formato binario, deben utilizarse los modos \"rb\", \"wb\" y \"ab\", respectivamente.\n",
        "\n",
        " "
      ]
    },
    {
      "cell_type": "code",
      "metadata": {
        "id": "NLFqjLxv58yN"
      },
      "source": [
        ""
      ],
      "execution_count": null,
      "outputs": []
    }
  ]
}