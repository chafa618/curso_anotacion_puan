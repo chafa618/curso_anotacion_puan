{
 "cells": [
  {
   "cell_type": "code",
   "execution_count": null,
   "metadata": {
    "vscode": {
     "languageId": "plaintext"
    }
   },
   "outputs": [],
   "source": [
    "Estructura de la sesión:\n",
    "Aprendizaje supervisado vs. no supervisado\n",
    "\n",
    "Definiciones y diferencias clave\n",
    "Ejemplo de cada tipo en NLP\n",
    "Métricas para evaluar modelos de clasificación\n",
    "\n",
    "Definiciones de accuracy, precisión y recall\n",
    "Ejemplo práctico con Scikit-Learn\n",
    "Anotación como tarea a resolver por un modelo predictivo\n",
    "\n",
    "Relación entre etiquetado de datos y modelos supervisados\n",
    "Caso práctico: datos anotados para clasificación de sentimientos\n",
    "Datos estructurados y no estructurados\n",
    "\n",
    "Definición y diferencias\n",
    "Manejo de archivos JSON y CSV en Python\n",
    "Vectorización de texto\n",
    "\n",
    "Explicación de CountVectorizer y TfidfVectorizer\n",
    "Implementación en Python con ejemplos\n",
    "Modelo de clasificación: Naïve Bayes\n",
    "\n",
    "Conceptos básicos del clasificador bayesiano ingenuo<\n",
    "\n",
    "Implementación de un clasificador de sentimientos con Naïve Bayes"
   ]
  },
  {
   "cell_type": "markdown",
   "metadata": {},
   "source": []
  },
  {
   "cell_type": "markdown",
   "metadata": {},
   "source": [
    "## 📌 Aprendizaje supervisado vs. no supervisado\n",
    "\n",
    "Cuando hablamos de AS y ANS, nos referimos a diferentes enfoques de aprendizaje automático. "
   ]
  },
  {
   "cell_type": "markdown",
   "metadata": {},
   "source": [
    "\n",
    "- **Aprendizaje supervisado**: El modelo aprende a partir de datos etiquetados, donde cada entrada tiene una salida asociada.\n",
    "- **Aprendizaje no supervisado**: El modelo trabaja con datos no etiquetados, con el objetivo de descubrir patrones sin una salida específica.\n"
   ]
  },
  {
   "cell_type": "markdown",
   "metadata": {},
   "source": [
    "### 📍 Aprendizaje Supervisado:\n",
    "- Un algoritmo usa un conjunto de datos de muetra para entrenarse, hacer predicciones y ajustarse de forma iterativa para minimizar los errores. Estos datos están etiquetados con los valores de salida esperados, de forma tal que el modelo pueda dar una respuesta \"acertada\".\n",
    "- Hay un conocimiento a priori que el modelo trata de aprender. Este tipo de algoritmo se centra en aprender la relaciones entre los datos de entrada y de salida (el dato y su etiqueta). \n",
    "- Es decuado para tareas de clasificación y regresión, como la previsión meteorológica, los cambios de precios, el análisis de opinión y la detección de spam.\n",
    "\n",
    "\n",
    "### 📍 Aprendizaje No supervisado:\n",
    "- El algoritmo se entrena con un conjunto de datos no etiquetados, es decir, sin una salida esperada. El objetivo del Unsupervised Learning es encontrar patrones, estructuras y relaciones en los datos sin la necesidad de una orientación o guía específica.\n",
    "- No hay conocimiento a priori; el algoritmo recibe un conjunto de datos y busca patrones y similitudes por sí solo, sin que se le haya dicho de antemano qué características buscar e intenta agrupar los datos en función de similitudes y diferencias.\n",
    "- Se utiliza ampliamente en el análisis exploratorio de datos y tareas de agrupación, detección de anomalías y reducción de dimensionalidad. \n"
   ]
  },
  {
   "cell_type": "markdown",
   "metadata": {},
   "source": [
    "|    | **Supervisado**                        | **No Supervisado**                    |\n",
    "|--------------------|--------------------------------|--------------------------------|\n",
    "| **Input**         | Dato etiquetado              | Dato crudo                    |\n",
    "| **Output**        | Respuesta 'correcta' / etiqueta | Patrones                      |\n",
    "| **Objetivo**      | Aprender relaciones entre los datos de entrada y de salida | Descubrir relaciones entre los datos sin etiquetar |\n",
    "| **Tasks**         | Regresión, clasificación     | Exploración, agrupación       |\n",
    "| **Ejemplo**       | Detección de spam, previsión meteorológica | Detección de anomalías, segmentación de clientes |\n"
   ]
  },
  {
   "cell_type": "markdown",
   "metadata": {},
   "source": [
    "\n",
    "### 📝 Hagamos unos ejercicios:\n",
    "1. Tenés un conjunto de datos con información de diferentes casas, incluyendo la cantidad de habitaciones, metros cuadrados, ubicación y precio de venta. Querés construir un modelo que, dado un conjunto de características de una casa nueva, prediga su precio.\n",
    "\n",
    "2. Un negocio de comercio electrónico quiere agrupar a sus clientes en diferentes segmentos según su comportamiento de compra, sin una etiqueta predefinida. Se analizan datos como el número de compras realizadas, el monto gastado y la frecuencia de compra.\n",
    "\n",
    "3. Un banco quiere identificar transacciones sospechosas analizando patrones inusuales en el comportamiento de los clientes. No tiene ejemplos previos de fraude etiquetados, pero quiere detectar anomalías basadas en las transacciones habituales de cada cliente.\n",
    "\n",
    "4. Un sistema de correo electrónico tiene un conjunto de datos con correos etiquetados como \"spam\" o \"no spam\". Querés entrenar un modelo para clasificar automáticamente nuevos correos en una de estas dos categorías.\n"
   ]
  },
  {
   "cell_type": "markdown",
   "metadata": {},
   "source": [
    "## Algoritmos de Clasificación "
   ]
  },
  {
   "cell_type": "markdown",
   "metadata": {},
   "source": []
  },
  {
   "cell_type": "markdown",
   "metadata": {},
   "source": [
    "## 📌 Métricas para evaluar modelos de clasificación\n",
    "Definiciones:\n",
    "Accuracy (exactitud): (Predicciones correctas / Total de predicciones).\n",
    "Precisión: (Verdaderos Positivos / (Verdaderos Positivos + Falsos Positivos)).\n",
    "Recall (cobertura): (Verdaderos Positivos / (Verdaderos Positivos + Falsos Negativos)).\n"
   ]
  },
  {
   "cell_type": "code",
   "execution_count": null,
   "metadata": {
    "vscode": {
     "languageId": "markdown"
    }
   },
   "outputs": [],
   "source": []
  },
  {
   "cell_type": "code",
   "execution_count": null,
   "metadata": {
    "vscode": {
     "languageId": "plaintext"
    }
   },
   "outputs": [],
   "source": []
  }
 ],
 "metadata": {
  "language_info": {
   "name": "python"
  }
 },
 "nbformat": 4,
 "nbformat_minor": 2
}
